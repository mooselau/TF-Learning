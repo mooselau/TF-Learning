{
 "cells": [
  {
   "cell_type": "markdown",
   "metadata": {},
   "source": [
    "### TensorFlow Basic Notes\n"
   ]
  },
  {
   "cell_type": "code",
   "execution_count": 162,
   "metadata": {
    "collapsed": false
   },
   "outputs": [
    {
     "name": "stdout",
     "output_type": "stream",
     "text": [
      "cons_1\n",
      "[[ 1.  1.  1.  1.  1.  1.  1.  1.]\n",
      " [ 1.  1.  1.  1.  1.  1.  1.  1.]\n",
      " [ 1.  1.  1.  1.  1.  1.  1.  1.]]\n",
      "\n",
      "cons_2\n",
      "[ 2.  2.  2.  2.]\n",
      "\n",
      "Cons2 + Cons3:\n",
      "[ 6.  7.  8.  9.]\n",
      "\n",
      "Reshape Cons1:\n",
      "[[ 1.  1.  1.  1.  1.  1.]\n",
      " [ 1.  1.  1.  1.  1.  1.]\n",
      " [ 1.  1.  1.  1.  1.  1.]\n",
      " [ 1.  1.  1.  1.  1.  1.]]\n",
      "\n",
      "cons_3\n",
      "[ 1  2  3  4  5  6  7  8  9 10 11 12 13 14 15 16 17 18]\n",
      "\n",
      "Reshape cons_3:\n",
      "[[ 1  2  3  4  5  6]\n",
      " [ 7  8  9 10 11 12]\n",
      " [13 14 15 16 17 18]]\n",
      "\n"
     ]
    }
   ],
   "source": [
    "import tensorflow as tf\n",
    "import numpy as np\n",
    "\n",
    "def print_msg( str1, str2 ):\n",
    "    \"This prints a msg..\"\n",
    "    print str1\n",
    "    print str2 + \"\\n\"\n",
    "    return\n",
    "\n",
    "# Open a session\n",
    "with tf.Session() as sess:\n",
    "    # create a constant\n",
    "    cons_1 = tf.constant(1.0, np.float32,[3,8])\n",
    "    # eval() is the trigger to get the result, where is also the graph computes.\n",
    "    print_msg(\"cons_1\", str(cons_1.eval()))\n",
    "    \n",
    "    cons_2 = tf.constant(2.0, shape=[4]) # shape=[4] means the 1-d array with columns 4.\n",
    "    print_msg(\"cons_2\", str(cons_2.eval()))\n",
    "\n",
    "    # simple calc\n",
    "    cons_3 = tf.constant([4.0, 5.0, 6.0, 7.0])\n",
    "    output = tf.add(cons_2, cons_3)\n",
    "    print_msg(\"Cons2 + Cons3:\", str(output.eval()))\n",
    "    \n",
    "    # reshape\n",
    "    cons_1r = tf.reshape(cons_1, shape=[4,6])\n",
    "    print_msg(\"Reshape Cons1:\", str(cons_1r.eval()))\n",
    "    \n",
    "    # range\n",
    "    cons_3 = tf.range(1, 19)\n",
    "    print_msg(\"cons_3\", str(cons_3.eval()))\n",
    "    cons_3r = tf.reshape(cons_3, shape=[3, 6])\n",
    "    print_msg(\"Reshape cons_3:\", str(cons_3r.eval()))\n",
    "    "
   ]
  },
  {
   "cell_type": "markdown",
   "metadata": {},
   "source": [
    "### Tensors\n",
    "    \n",
    ">\"*A vector is a 1-d array and is known as a 1st-order tensor. \n",
    "  A matrix is a 2-d array and a 2nd-order tensor. \n",
    "  The \"flow\" part of the name refers to computation flowing through a graph.*\" -- T.F.\n",
    "    \n",
    "a vector is a single dimensional array. v(1i) means the array [1].\n",
    "a plane vector is a 1 dimensional array. v(3i, 2j) => [3, 2]\n",
    "a space vector is a 1 dimensional array. v(3i, 2j, 4z) => [3, 2, 4]\n",
    "a vector of dimension n could be representing by an array of n elements.\n",
    "    \n",
    "#### a matrix is a 2-dimensional array. \n",
    "$\\begin{bmatrix}\n",
    "        1. \\\\\n",
    "        2. \\\\\n",
    "        3. \\\\\n",
    "\\end{bmatrix}$ => \n",
    "[ [1], [2], [3] ]\n",
    "    \n",
    "a normal matrix is like:\n",
    "$\\begin{bmatrix}\n",
    "        2. & 4. & 5. \\\\\n",
    "        3. & 10. & 6. \\\\\n",
    "        11. & 9. & 3. \\\\\n",
    "\\end{bmatrix}$  => \n",
    "[ [ 2, 4, 5],\n",
    "  [3, 10, 6],\n",
    "  [11, 9, 3] ]\n",
    "    \n",
    "#### Temp-conclusion\n",
    "Tensor is something multi-dimensional, especially useful in a large dimensional situation, and it has some same properties as vectors & matrices. e.g. calculations ..\n",
    "\n",
    "#### tensor.eval()\n",
    "After a graph has been launched in a session, the value of a Tensor can be computed by Session.run(). **Note** that tensor.eval() is a shortcut for tf.get_default_session().run(t)."
   ]
  },
  {
   "cell_type": "markdown",
   "metadata": {},
   "source": [
    "### Variables\n",
    "\"*Variable is used to hold and update parameters. They are in-memory buffers containing tensors. They must be explicitly initialized. e.g. tf.Variable(tf.zeros([1,2])) They can be saved during and after training to disk and can be restored to exervise or analyze the model later.*\" --TF.Doc\n",
    "\n",
    "#### Initialization\n",
    "Two ways to initialize variables.\n",
    "- tf.initialize_variables(var_list, name=optional)\n",
    "- tf.initialize_all_variables()\n",
    "\n",
    "#### Assignment\n",
    "tf.assign(ref, value, ..)\n",
    "What 'tf.assign()' does is actually reset a **ref** with a new **value**.\n"
   ]
  },
  {
   "cell_type": "markdown",
   "metadata": {},
   "source": [
    "### Operation\n",
    ">\"*Represents a graph node that performs computations on tensors.*\" --TF.Doc\n",
    "\n",
    "In tensorflow process, the Operation takes zero or more Tensor objects as input, and produces zero or more Tensors as output. e.g. tf.matmul().\n",
    "\n",
    "Operation can be executed with Session.run(op). **Note** that Op.run() is a shortcut for tf.get_defualt_session().run(op)."
   ]
  },
  {
   "cell_type": "code",
   "execution_count": 179,
   "metadata": {
    "collapsed": false
   },
   "outputs": [
    {
     "name": "stdout",
     "output_type": "stream",
     "text": [
      "Var A:\n",
      "[[ 0.  0.]]\n",
      "\n",
      "Var B:\n",
      "[[ 0.41684544  0.05444515]]\n",
      "\n"
     ]
    }
   ],
   "source": [
    "# Example for variables\n",
    "with tf.Session() as sess:\n",
    "    \n",
    "    a = tf.Variable(tf.zeros([1,2]))\n",
    "    b = tf.Variable(tf.random_uniform([1,2]))  \n",
    "    \n",
    "    # execute operation.\n",
    "    tf.initialize_all_variables().run()\n",
    "    \n",
    "    # compute and print value of Tensors.\n",
    "    print_msg(\"Var A:\", str(a.eval()))\n",
    "    print_msg(\"Var B:\", str(b.eval()))\n",
    "    "
   ]
  },
  {
   "cell_type": "markdown",
   "metadata": {},
   "source": [
    "### Session\n",
    "#### Usages\n",
    "A Session obj has the env. where Operation objects are executed, Tensor objects are evaluated.\n",
    "\n",
    "```python\n",
    "   \n",
    "    # build the graph with tensors & ops\n",
    "    a = tf.constant(5.0)\n",
    "    b = tf.constant(6.0)\n",
    "    c = a * b\n",
    "    \n",
    "    # launch the graph in a session.\n",
    "    sess = tf.Session()\n",
    "    \n",
    "    # evaluate the tensor 'c'\n",
    "    print(sess.run(c))\n",
    "    \n",
    "    # close the session to release resources.\n",
    "    sess.close()\n",
    "```\n",
    "\n",
    "Alternatively, session can be used as a context manager. The two ways are equivalent.\n",
    "\n",
    "```python\n",
    "# open a session as a context manager\n",
    "with tf.Session() as sess:\n",
    "    \n",
    "    # build the graph with tensors & ops\n",
    "    a = tf.constant(5.0)\n",
    "    b = tf.constant(6.0)\n",
    "    c = a * b\n",
    "    \n",
    "    # Evaluate the tensor 'c'\n",
    "    print(c.eval())\n",
    "```\n",
    "\n",
    "#### Session.run()\n",
    "**KEY API**: *tf.Session.run(fetches, feed_dict=None, options=None, run_metadata=None)*\n",
    "\n",
    "\"Runs operations and evaluates tensors in **fetches**.\" --T.F.Doc\n",
    "\n",
    "The fetches can be a graph element (a Tensor, an operation, etc.), or a list, tulple or dict that contains graph elements.\n",
    "\n",
    "The feed_dict argument is optional. It \"*allows the caller to override the value of tensors in graph.*\" Within it, the key can be a Tensor, or a nested tulple of Tensors.\n"
   ]
  },
  {
   "cell_type": "code",
   "execution_count": 183,
   "metadata": {
    "collapsed": false
   },
   "outputs": [
    {
     "name": "stdout",
     "output_type": "stream",
     "text": [
      "[[ 0.39782119 -0.46190071]] [[ 1.33713818 -0.3148371 ]]\n",
      "[[-0.75201368  0.53828597]] [[-0.25756526  1.5165832 ]]\n",
      "[[ 0.37571168 -0.87970138]] [[ 0.995368    0.06478631]]\n",
      "[[-0.21329546  0.6940155 ]] [[ 0.67102897  0.89374876]]\n",
      "[[ 0.47788572  0.59717727]] [[ 0.97123277  1.40898335]]\n"
     ]
    }
   ],
   "source": [
    "# For Explain Variables..\n",
    "\n",
    "with tf.Session() as sess:   \n",
    "    # create a variable\n",
    "    var_1 = tf.Variable(tf.zeros([1,2]))\n",
    "    var_2 = tf.Variable(tf.random_uniform([1,2]))\n",
    "    \n",
    "    # Inistialize vars\n",
    "    init = tf.initialize_variables([var_1, var_2], name='init')\n",
    "    # tf.initialize_all_variables().run()\n",
    "    \n",
    "    # Assignement Ops.\n",
    "    # Which adds the ops to the graph, not performed yet.\n",
    "    update_var1 = tf.assign(var_1, tf.random_uniform([1,2], -1.0, 1.0))  # op is random again\n",
    "    update_var2 = tf.assign(var_2, tf.add(var_1, var_2))  # op is addition\n",
    "    \n",
    "    for _ in range(5):\n",
    "        sess.run(init)\n",
    "        sess.run(update_var1)\n",
    "        sess.run(update_var2)\n",
    "    \n",
    "        print var_1.eval(), var_2.eval()\n",
    "   "
   ]
  },
  {
   "cell_type": "markdown",
   "metadata": {},
   "source": [
    "#### Note: The computation is only performed on demand.\n",
    "                                                                            \n",
    "                                                                           (will keep updating..)"
   ]
  }
 ],
 "metadata": {
  "kernelspec": {
   "display_name": "Python 2",
   "language": "python",
   "name": "python2"
  },
  "language_info": {
   "codemirror_mode": {
    "name": "ipython",
    "version": 2
   },
   "file_extension": ".py",
   "mimetype": "text/x-python",
   "name": "python",
   "nbconvert_exporter": "python",
   "pygments_lexer": "ipython2",
   "version": "2.7.6"
  }
 },
 "nbformat": 4,
 "nbformat_minor": 0
}
