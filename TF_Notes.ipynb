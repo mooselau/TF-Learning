{
 "cells": [
  {
   "cell_type": "code",
   "execution_count": 148,
   "metadata": {
    "collapsed": false
   },
   "outputs": [
    {
     "name": "stdout",
     "output_type": "stream",
     "text": [
      "cons_1\n",
      "[[ 1.  1.  1.  1.  1.  1.  1.  1.]\n",
      " [ 1.  1.  1.  1.  1.  1.  1.  1.]\n",
      " [ 1.  1.  1.  1.  1.  1.  1.  1.]]\n",
      "\n",
      "cons_2\n",
      "[ 2.  2.  2.  2.]\n",
      "\n",
      "Cons2 + Cons3:\n",
      "[ 6.  7.  8.  9.]\n",
      "\n",
      "Reshape Cons1:\n",
      "[[ 1.  1.  1.  1.  1.  1.]\n",
      " [ 1.  1.  1.  1.  1.  1.]\n",
      " [ 1.  1.  1.  1.  1.  1.]\n",
      " [ 1.  1.  1.  1.  1.  1.]]\n",
      "\n",
      "cons_3\n",
      "[ 1  2  3  4  5  6  7  8  9 10 11 12 13 14 15 16 17 18]\n",
      "\n",
      "Reshape cons_3:\n",
      "[[ 1  2  3  4  5  6]\n",
      " [ 7  8  9 10 11 12]\n",
      " [13 14 15 16 17 18]]\n",
      "\n"
     ]
    }
   ],
   "source": [
    "import tensorflow as tf\n",
    "import numpy as np\n",
    "\n",
    "def print_msg( str1, str2 ):\n",
    "    \"This prints a msg..\"\n",
    "    print str1\n",
    "    print str2 + \"\\n\"\n",
    "    return\n",
    "\n",
    "# Open a session\n",
    "with tf.Session() as sess:\n",
    "    # create a constant\n",
    "    cons_1 = tf.constant(1.0, np.float32,[3,8])\n",
    "    print_msg(\"cons_1\", str(cons_1.eval()))\n",
    "    \n",
    "    cons_2 = tf.constant(2.0, shape=[4]) # shape=[4] means the 1-d array with columns 4.\n",
    "    print_msg(\"cons_2\", str(cons_2.eval()))\n",
    "    \n",
    "    # simple calc\n",
    "    cons_3 = tf.constant([4.0, 5.0, 6.0, 7.0])\n",
    "    output = tf.add(cons_2, cons_3)\n",
    "    print_msg(\"Cons2 + Cons3:\", str(output.eval()))\n",
    "    \n",
    "    # reshape\n",
    "    cons_1r = tf.reshape(cons_1, shape=[4,6])\n",
    "    print_msg(\"Reshape Cons1:\", str(cons_1r.eval()))\n",
    "    \n",
    "    # range\n",
    "    cons_3 = tf.range(1, 19)\n",
    "    print_msg(\"cons_3\", str(cons_3.eval()))\n",
    "    cons_3r = tf.reshape(cons_3, shape=[3, 6])\n",
    "    print_msg(\"Reshape cons_3:\", str(cons_3r.eval()))\n",
    "    "
   ]
  },
  {
   "cell_type": "markdown",
   "metadata": {},
   "source": [
    "### Tensors\n",
    "    \n",
    ">\"*A vector is a 1-d array and is known as a 1st-order tensor. \n",
    "  A matrix is a 2-d array and a 2nd-order tensor. \n",
    "  The \"flow\" part of the name refers to computation flowing through a graph.*\" -- T.F.\n",
    "    \n",
    "a vector is a single dimensional array. v(1i) means the array [1].\n",
    "a plane vector is a 1 dimensional array. v(3i, 2j) => [3, 2]\n",
    "a space vector is a 1 dimensional array. v(3i, 2j, 4z) => [3, 2, 4]\n",
    "a vector of dimension n could be representing by an array of n elements.\n",
    "    \n",
    "#### a matrix is a 2-dimensional array. \n",
    "$\\begin{bmatrix}\n",
    "        1. \\\\\n",
    "        2. \\\\\n",
    "        3. \\\\\n",
    "\\end{bmatrix}$ => \n",
    "[ [1], [2], [3] ]\n",
    "    \n",
    "a normal matrix is like:\n",
    "$\\begin{bmatrix}\n",
    "        2. & 4. & 5. \\\\\n",
    "        3. & 10. & 6. \\\\\n",
    "        11. & 9. & 3. \\\\\n",
    "\\end{bmatrix}$  => \n",
    "[ [ 2, 4, 5],\n",
    "  [3, 10, 6],\n",
    "  [11, 9, 3] ]\n",
    "    \n",
    "#### Temp-conclusion\n",
    "Tensor is something multi-dimensional, especially useful in a large dimensional situation, and it has some same properties as vectors & matrices. e.g. calculations .."
   ]
  },
  {
   "cell_type": "code",
   "execution_count": null,
   "metadata": {
    "collapsed": true
   },
   "outputs": [],
   "source": [
    "print \"Variables Usage\"\n",
    "\n",
    "# create two vars.\n",
    "# Variable class constructor(initial_value, name=<optional_name>) \n",
    "# initial_value can be any Tensor. Type + Shape.\n",
    "weights = tf.Variable(tf.random_normal([784,200], stddev=0.35), name=\"weights\")\n",
    "biases = tf.Variable(tf.zeros([200]), name=\"biases\")\n",
    "\n",
    "\n",
    "\n",
    "# eval() is the trigger to get the result, where is also the graph computes.\n",
    "\n"
   ]
  },
  {
   "cell_type": "code",
   "execution_count": null,
   "metadata": {
    "collapsed": true
   },
   "outputs": [],
   "source": []
  }
 ],
 "metadata": {
  "kernelspec": {
   "display_name": "Python 2",
   "language": "python",
   "name": "python2"
  },
  "language_info": {
   "codemirror_mode": {
    "name": "ipython",
    "version": 2
   },
   "file_extension": ".py",
   "mimetype": "text/x-python",
   "name": "python",
   "nbconvert_exporter": "python",
   "pygments_lexer": "ipython2",
   "version": "2.7.6"
  }
 },
 "nbformat": 4,
 "nbformat_minor": 0
}
